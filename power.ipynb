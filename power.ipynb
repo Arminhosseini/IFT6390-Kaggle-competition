{
 "cells": [
  {
   "cell_type": "code",
   "execution_count": 2,
   "metadata": {},
   "outputs": [],
   "source": [
    "%load_ext autoreload\n",
    "%autoreload 2\n",
    "import pandas as pd\n",
    "import numpy as np\n",
    "import matplotlib.pyplot as plt\n",
    "from IPython.display import display, clear_output\n",
    "from logistic_regression import logistic_regression"
   ]
  },
  {
   "cell_type": "code",
   "execution_count": 3,
   "metadata": {},
   "outputs": [],
   "source": [
    "from sklearn.ensemble import RandomForestClassifier\n",
    "from sklearn.metrics import accuracy_score, log_loss\n",
    "from sklearn.neural_network import MLPClassifier"
   ]
  },
  {
   "cell_type": "code",
   "execution_count": 4,
   "metadata": {},
   "outputs": [],
   "source": [
    "data = pd.read_csv('Dataset/train.csv', index_col=0)"
   ]
  },
  {
   "cell_type": "code",
   "execution_count": 5,
   "metadata": {},
   "outputs": [],
   "source": [
    "data['time'] = pd.to_datetime(\n",
    "    data['time'], format='%Y%m%d')\n",
    "\n",
    "data['day_of_year'] = data['time'].dt.dayofyear\n",
    "\n",
    "data['day_of_year'] = (data['day_of_year']*np.pi)/180\n",
    "data['sin_time'] = np.sin(data['day_of_year'])\n",
    "data['cos_time'] = np.cos(data['day_of_year'])\n",
    "\n",
    "date = data[\"time\"]\n",
    "label = data['Label']\n",
    "data.drop(columns=['time', 'day_of_year', 'Label'], inplace=True)"
   ]
  },
  {
   "cell_type": "code",
   "execution_count": 5,
   "metadata": {},
   "outputs": [],
   "source": [
    "data_min = data.min()\n",
    "data_max = data.max()\n",
    "data = (data - data_min) / (data_max - data_min)\n",
    "\n",
    "for column in data.columns.drop(['sin_time', 'cos_time']):\n",
    "    data[column + '_pow'] = np.square(data[column])"
   ]
  },
  {
   "cell_type": "code",
   "execution_count": 6,
   "metadata": {},
   "outputs": [],
   "source": [
    "train_data = data[date.dt.year <= 2005]\n",
    "valid_data = data[date.dt.year > 2005]\n",
    "\n",
    "X_train = train_data\n",
    "y_train = label[date.dt.year <= 2005]\n",
    "X_val = valid_data\n",
    "y_val = label[date.dt.year > 2005]"
   ]
  },
  {
   "cell_type": "code",
   "execution_count": 6,
   "metadata": {},
   "outputs": [],
   "source": [
    "lr = logistic_regression()"
   ]
  },
  {
   "cell_type": "code",
   "execution_count": 7,
   "metadata": {},
   "outputs": [
    {
     "data": {
      "text/html": [
       "<div>\n",
       "<style scoped>\n",
       "    .dataframe tbody tr th:only-of-type {\n",
       "        vertical-align: middle;\n",
       "    }\n",
       "\n",
       "    .dataframe tbody tr th {\n",
       "        vertical-align: top;\n",
       "    }\n",
       "\n",
       "    .dataframe thead th {\n",
       "        text-align: right;\n",
       "    }\n",
       "</style>\n",
       "<table border=\"1\" class=\"dataframe\">\n",
       "  <thead>\n",
       "    <tr style=\"text-align: right;\">\n",
       "      <th></th>\n",
       "      <th>eta</th>\n",
       "      <th>rho</th>\n",
       "      <th>gamma</th>\n",
       "      <th>alpha</th>\n",
       "      <th>loss</th>\n",
       "      <th>train_acc</th>\n",
       "      <th>valid_acc</th>\n",
       "    </tr>\n",
       "  </thead>\n",
       "  <tbody>\n",
       "    <tr>\n",
       "      <th>0</th>\n",
       "      <td>0.3</td>\n",
       "      <td>0.99</td>\n",
       "      <td>0.96</td>\n",
       "      <td>0.00001</td>\n",
       "      <td>0.382136</td>\n",
       "      <td>0.838061</td>\n",
       "      <td>0.807923</td>\n",
       "    </tr>\n",
       "  </tbody>\n",
       "</table>\n",
       "</div>"
      ],
      "text/plain": [
       "   eta   rho  gamma    alpha      loss  train_acc  valid_acc\n",
       "0  0.3  0.99   0.96  0.00001  0.382136   0.838061   0.807923"
      ]
     },
     "metadata": {},
     "output_type": "display_data"
    }
   ],
   "source": [
    "# gammas = [0.94, 0.96, 0.98, 0.99]\n",
    "# alphas = [0.0001, 0.00001, 0.00005]\n",
    "# rhos = [0.95, 0.97, 0.99]\n",
    "# etas = [0.1, 0.01, 0.3, 0.6]\n",
    "gammas = [0.96]\n",
    "alphas = [0.00001]\n",
    "rhos = [0.99]\n",
    "etas = [0.3]\n",
    "df = pd.DataFrame(columns = ['eta', 'rho', 'gamma', 'alpha', 'loss', 'train_acc', 'valid_acc'])\n",
    "for rho in rhos:\n",
    "    for gamma in gammas:\n",
    "        for eta in etas:      \n",
    "            for alpha in alphas:\n",
    "                loss = lr.fit(X_train, y_train, 2500, eta, rho, alpha, gamma, X_val, y_val)\n",
    "                train_pred = lr.predict(X_train)\n",
    "                train_acc = lr.accuracy(y_train, train_pred)\n",
    "                val_pred = lr.predict(X_val)\n",
    "                val_acc = lr.accuracy(y_val, val_pred)\n",
    "                new_row = {'eta': eta, 'rho': rho, 'gamma': gamma, 'alpha': alpha, 'loss': loss, 'train_acc':train_acc, 'valid_acc': val_acc}\n",
    "                df.loc[len(df)] = new_row\n",
    "                df = df.sort_values(by=['loss'])\n",
    "                clear_output(wait=True)\n",
    "                display(df)"
   ]
  },
  {
   "cell_type": "code",
   "execution_count": 1,
   "metadata": {},
   "outputs": [
    {
     "ename": "NameError",
     "evalue": "name 'RandomForestClassifier' is not defined",
     "output_type": "error",
     "traceback": [
      "\u001b[0;31m---------------------------------------------------------------------------\u001b[0m",
      "\u001b[0;31mNameError\u001b[0m                                 Traceback (most recent call last)",
      "\u001b[1;32m/home/armin/Projects/IFT6390-Kaggle-competition/power.ipynb Cell 9\u001b[0m line \u001b[0;36m1\n\u001b[0;32m----> <a href='vscode-notebook-cell:/home/armin/Projects/IFT6390-Kaggle-competition/power.ipynb#X11sZmlsZQ%3D%3D?line=0'>1</a>\u001b[0m rfc \u001b[39m=\u001b[39m RandomForestClassifier(n_estimators\u001b[39m=\u001b[39m\u001b[39m100\u001b[39m, criterion\u001b[39m=\u001b[39m\u001b[39m'\u001b[39m\u001b[39mentropy\u001b[39m\u001b[39m'\u001b[39m, max_depth\u001b[39m=\u001b[39m\u001b[39m30\u001b[39m, min_samples_split\u001b[39m=\u001b[39m\u001b[39m10\u001b[39m)\n",
      "\u001b[0;31mNameError\u001b[0m: name 'RandomForestClassifier' is not defined"
     ]
    }
   ],
   "source": [
    "rfc = RandomForestClassifier(n_estimators=100, criterion='entropy', max_depth=30, min_samples_split=10)"
   ]
  },
  {
   "cell_type": "code",
   "execution_count": 22,
   "metadata": {},
   "outputs": [
    {
     "name": "stdout",
     "output_type": "stream",
     "text": [
      "Validation accuracy: 0.7937158469945356\n",
      "Train accuracy: 0.8113247863247863\n"
     ]
    }
   ],
   "source": [
    "rfc.fit(X_train, y_train)\n",
    "val_pred = rfc.predict(X_val)\n",
    "print(f'Validation accuracy: {accuracy_score(y_val, val_pred)}')\n",
    "train_pred = rfc.predict(X_train)\n",
    "print(f'Train accuracy: {accuracy_score(y_train, train_pred)}')\n"
   ]
  },
  {
   "cell_type": "code",
   "execution_count": null,
   "metadata": {},
   "outputs": [],
   "source": [
    "mlp = MLPClassifier"
   ]
  }
 ],
 "metadata": {
  "kernelspec": {
   "display_name": "venv",
   "language": "python",
   "name": "python3"
  },
  "language_info": {
   "codemirror_mode": {
    "name": "ipython",
    "version": 3
   },
   "file_extension": ".py",
   "mimetype": "text/x-python",
   "name": "python",
   "nbconvert_exporter": "python",
   "pygments_lexer": "ipython3",
   "version": "3.11.6"
  }
 },
 "nbformat": 4,
 "nbformat_minor": 2
}
